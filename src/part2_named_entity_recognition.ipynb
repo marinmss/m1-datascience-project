{
 "cells": [
  {
   "cell_type": "code",
   "execution_count": 13,
   "id": "cdecdd6e-8dd0-4583-a001-8c06ba7f4413",
   "metadata": {},
   "outputs": [
    {
     "name": "stderr",
     "output_type": "stream",
     "text": [
      "Downloading https://raw.githubusercontent.com/stanfordnlp/stanza-resources/main/resources_1.8.0.json: 379kB [00:00, 15.3MB/s]                                             \n",
      "2024-06-12 12:05:00 INFO: Downloaded file to /home/marina/stanza_resources/resources.json\n",
      "2024-06-12 12:05:00 INFO: Downloading default packages for language: en (English) ...\n",
      "2024-06-12 12:05:02 INFO: File exists: /home/marina/stanza_resources/en/default.zip\n",
      "2024-06-12 12:05:08 INFO: Finished downloading models and saved to /home/marina/stanza_resources\n",
      "2024-06-12 12:05:08 INFO: Checking for updates to resources.json in case models have been updated.  Note: this behavior can be turned off with download_method=None or download_method=DownloadMethod.REUSE_RESOURCES\n",
      "Downloading https://raw.githubusercontent.com/stanfordnlp/stanza-resources/main/resources_1.8.0.json: 379kB [00:00, 1.54MB/s]                                             \n",
      "2024-06-12 12:05:08 INFO: Downloaded file to /home/marina/stanza_resources/resources.json\n",
      "2024-06-12 12:05:08 WARNING: Language en package default expects mwt, which has been added\n",
      "2024-06-12 12:05:09 INFO: Loading these models for language: en (English):\n",
      "=========================================\n",
      "| Processor | Package                   |\n",
      "-----------------------------------------\n",
      "| tokenize  | combined                  |\n",
      "| mwt       | combined                  |\n",
      "| ner       | ontonotes-ww-multi_charlm |\n",
      "=========================================\n",
      "\n",
      "2024-06-12 12:05:09 INFO: Using device: cpu\n",
      "2024-06-12 12:05:09 INFO: Loading: tokenize\n",
      "2024-06-12 12:05:09 INFO: Loading: mwt\n",
      "2024-06-12 12:05:09 INFO: Loading: ner\n",
      "2024-06-12 12:05:10 INFO: Done loading processors!\n"
     ]
    }
   ],
   "source": [
    "### all together ########################\n",
    "import stanza\n",
    "import spacy\n",
    "import glob\n",
    "import pandas as pd\n",
    "\n",
    "import stanza.pipeline\n",
    "stanza.download('en')\n",
    "nlp_stanza = stanza.Pipeline('en', processors='tokenize,ner') \n",
    "nlp_spacy = spacy.load('en_core_web_sm')\n",
    "\n",
    "path = './Biographies/*'\n",
    "files = sum([glob.glob(dir+'/*.txt') for dir in glob.glob(path)],[]) # a commenter pour tout faire\n",
    "files = files[:3]"
   ]
  },
  {
   "cell_type": "code",
   "execution_count": 21,
   "id": "674547a9-623b-414f-a9fd-074c277caf16",
   "metadata": {},
   "outputs": [
    {
     "data": {
      "text/html": [
       "<div>\n",
       "<style scoped>\n",
       "    .dataframe tbody tr th:only-of-type {\n",
       "        vertical-align: middle;\n",
       "    }\n",
       "\n",
       "    .dataframe tbody tr th {\n",
       "        vertical-align: top;\n",
       "    }\n",
       "\n",
       "    .dataframe thead th {\n",
       "        text-align: right;\n",
       "    }\n",
       "</style>\n",
       "<table border=\"1\" class=\"dataframe\">\n",
       "  <thead>\n",
       "    <tr style=\"text-align: right;\">\n",
       "      <th></th>\n",
       "      <th>file_name</th>\n",
       "      <th>ents_stanza</th>\n",
       "      <th>ents_spacy</th>\n",
       "    </tr>\n",
       "  </thead>\n",
       "  <tbody>\n",
       "    <tr>\n",
       "      <th>0</th>\n",
       "      <td>AquileoJ.Echeverría_Journalists.txt</td>\n",
       "      <td>[(Aquileo J. Echeverría, PERSON), (May 22, 186...</td>\n",
       "      <td>[(Aquileo J. Echeverría, PERSON), (May 22, 186...</td>\n",
       "    </tr>\n",
       "    <tr>\n",
       "      <th>1</th>\n",
       "      <td>ThomasHenryShadwellClerke_Journalists.txt</td>\n",
       "      <td>[(Thomas Henry Shadwell Clerke, PERSON), (KH, ...</td>\n",
       "      <td>[(Thomas Henry Shadwell Clerke, PERSON), (KH, ...</td>\n",
       "    </tr>\n",
       "    <tr>\n",
       "      <th>2</th>\n",
       "      <td>Journalist_Journalists.txt</td>\n",
       "      <td>[(Matthew C. Nisbet, PERSON), (Walter Lippmann...</td>\n",
       "      <td>[(Matthew C. Nisbet, PERSON), (Walter Lippmann...</td>\n",
       "    </tr>\n",
       "  </tbody>\n",
       "</table>\n",
       "</div>"
      ],
      "text/plain": [
       "                                   file_name  \\\n",
       "0        AquileoJ.Echeverría_Journalists.txt   \n",
       "1  ThomasHenryShadwellClerke_Journalists.txt   \n",
       "2                 Journalist_Journalists.txt   \n",
       "\n",
       "                                         ents_stanza  \\\n",
       "0  [(Aquileo J. Echeverría, PERSON), (May 22, 186...   \n",
       "1  [(Thomas Henry Shadwell Clerke, PERSON), (KH, ...   \n",
       "2  [(Matthew C. Nisbet, PERSON), (Walter Lippmann...   \n",
       "\n",
       "                                          ents_spacy  \n",
       "0  [(Aquileo J. Echeverría, PERSON), (May 22, 186...  \n",
       "1  [(Thomas Henry Shadwell Clerke, PERSON), (KH, ...  \n",
       "2  [(Matthew C. Nisbet, PERSON), (Walter Lippmann...  "
      ]
     },
     "execution_count": 21,
     "metadata": {},
     "output_type": "execute_result"
    }
   ],
   "source": [
    "def extract_ents_stanza(file):\n",
    "    with open(file, 'r') as f:\n",
    "        content = f.read()\n",
    "        doc = nlp_stanza(content)\n",
    "        ents = [(ent.text, ent.type) for ent in doc.ents]\n",
    "    return ents\n",
    "\n",
    "def extract_ents_spacy(file):\n",
    "    with open(file, 'r') as f:\n",
    "        content = f.read()\n",
    "        doc = nlp_spacy(content)\n",
    "        ents = [(ent.text, ent.label_) for ent in doc.ents]\n",
    "    return ents\n",
    "\n",
    "def store_ents(files):\n",
    "    data = []\n",
    "    for file in files:\n",
    "        file_name = file.split('/')[-1]\n",
    "        data.append({'file_name': file_name, \n",
    "                     'ents_stanza': extract_ents_stanza(file), \n",
    "                     'ents_spacy': extract_ents_spacy(file)})\n",
    "    return data\n",
    "\n",
    "data = store_ents(files)\n",
    "df = pd.DataFrame(data)\n",
    "df.head()"
   ]
  },
  {
   "cell_type": "code",
   "execution_count": 41,
   "id": "4a5e366a-4324-401a-8337-fa74eddb47e1",
   "metadata": {},
   "outputs": [
    {
     "name": "stdout",
     "output_type": "stream",
     "text": [
      "['LANGUAGE', 'PERSON', 'ORDINAL', 'PERCENT', 'FAC', 'DATE', 'EVENT', 'LOC', 'WORK_OF_ART', 'GPE', 'NORP', 'ORG', 'CARDINAL']\n",
      "['PERSON', 'ORDINAL', 'PERCENT', 'FAC', 'DATE', 'EVENT', 'WORK_OF_ART', 'GPE', 'NORP', 'ORG', 'CARDINAL']\n",
      "13\n",
      "11\n"
     ]
    },
    {
     "ename": "TypeError",
     "evalue": "unsupported operand type(s) for -: 'list' and 'list'",
     "output_type": "error",
     "traceback": [
      "\u001b[0;31m---------------------------------------------------------------------------\u001b[0m",
      "\u001b[0;31mTypeError\u001b[0m                                 Traceback (most recent call last)",
      "Cell \u001b[0;32mIn[41], line 12\u001b[0m\n\u001b[1;32m     10\u001b[0m \u001b[38;5;28mprint\u001b[39m(\u001b[38;5;28mlen\u001b[39m(stanza_categories))\n\u001b[1;32m     11\u001b[0m \u001b[38;5;28mprint\u001b[39m(\u001b[38;5;28mlen\u001b[39m(stanza_ctgs))\n\u001b[0;32m---> 12\u001b[0m \u001b[38;5;28mprint\u001b[39m(\u001b[43mstanza_categories\u001b[49m\u001b[38;5;241;43m-\u001b[39;49m\u001b[43mstanza_ctgs\u001b[49m)\n",
      "\u001b[0;31mTypeError\u001b[0m: unsupported operand type(s) for -: 'list' and 'list'"
     ]
    }
   ],
   "source": [
    "stanza_categories =  []\n",
    "for ents in df['ents_stanza']:\n",
    "    for ent in ents:\n",
    "        label = ent[1]\n",
    "        stanza_categories.append(label)\n",
    "stanza_categories = list(set(stanza_categories))\n",
    "print(stanza_categories)\n",
    "stanza_ctgs = list(set([ent[1] for ent in ents for ents in df['ents_stanza']]))\n",
    "print(stanza_ctgs)\n",
    "print(len(stanza_categories))\n",
    "print(len(stanza_ctgs))\n",
    "print(stanza_categories-stanza_ctgs)"
   ]
  },
  {
   "cell_type": "code",
   "execution_count": null,
   "id": "d7301dd2-9d72-4f37-ad07-27efde33ab92",
   "metadata": {},
   "outputs": [],
   "source": []
  }
 ],
 "metadata": {
  "kernelspec": {
   "display_name": "Python 3 (ipykernel)",
   "language": "python",
   "name": "python3"
  },
  "language_info": {
   "codemirror_mode": {
    "name": "ipython",
    "version": 3
   },
   "file_extension": ".py",
   "mimetype": "text/x-python",
   "name": "python",
   "nbconvert_exporter": "python",
   "pygments_lexer": "ipython3",
   "version": "3.10.12"
  }
 },
 "nbformat": 4,
 "nbformat_minor": 5
}
