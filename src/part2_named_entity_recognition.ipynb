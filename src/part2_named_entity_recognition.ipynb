{
 "cells": [
  {
   "cell_type": "code",
   "execution_count": 3,
   "id": "cdecdd6e-8dd0-4583-a001-8c06ba7f4413",
   "metadata": {},
   "outputs": [
    {
     "name": "stderr",
     "output_type": "stream",
     "text": [
      "/home/marina/.local/lib/python3.10/site-packages/tqdm/auto.py:21: TqdmWarning: IProgress not found. Please update jupyter and ipywidgets. See https://ipywidgets.readthedocs.io/en/stable/user_install.html\n",
      "  from .autonotebook import tqdm as notebook_tqdm\n",
      "Downloading https://raw.githubusercontent.com/stanfordnlp/stanza-resources/main/resources_1.8.0.json: 379kB [00:00, 17.6MB/s]         \n",
      "2024-06-13 17:00:34 INFO: Downloaded file to /home/marina/stanza_resources/resources.json\n",
      "2024-06-13 17:00:34 INFO: Downloading default packages for language: en (English) ...\n",
      "2024-06-13 17:00:35 INFO: File exists: /home/marina/stanza_resources/en/default.zip\n",
      "2024-06-13 17:00:38 INFO: Finished downloading models and saved to /home/marina/stanza_resources\n",
      "2024-06-13 17:00:38 INFO: Checking for updates to resources.json in case models have been updated.  Note: this behavior can be turned off with download_method=None or download_method=DownloadMethod.REUSE_RESOURCES\n",
      "Downloading https://raw.githubusercontent.com/stanfordnlp/stanza-resources/main/resources_1.8.0.json: 379kB [00:00, 16.3MB/s]         \n",
      "2024-06-13 17:00:39 INFO: Downloaded file to /home/marina/stanza_resources/resources.json\n",
      "2024-06-13 17:00:39 WARNING: Language en package default expects mwt, which has been added\n",
      "2024-06-13 17:00:39 INFO: Loading these models for language: en (English):\n",
      "=========================================\n",
      "| Processor | Package                   |\n",
      "-----------------------------------------\n",
      "| tokenize  | combined                  |\n",
      "| mwt       | combined                  |\n",
      "| ner       | ontonotes-ww-multi_charlm |\n",
      "=========================================\n",
      "\n",
      "2024-06-13 17:00:39 INFO: Using device: cpu\n",
      "2024-06-13 17:00:39 INFO: Loading: tokenize\n",
      "2024-06-13 17:00:40 INFO: Loading: mwt\n",
      "2024-06-13 17:00:40 INFO: Loading: ner\n",
      "2024-06-13 17:00:40 INFO: Done loading processors!\n"
     ]
    }
   ],
   "source": [
    "### all together ########################\n",
    "import stanza\n",
    "import spacy\n",
    "import glob\n",
    "import pandas as pd\n",
    "\n",
    "import stanza.pipeline\n",
    "stanza.download('en')\n",
    "nlp_stanza = stanza.Pipeline('en', processors='tokenize,ner') \n",
    "nlp_spacy = spacy.load('en_core_web_sm')\n",
    "\n",
    "path_journalists = './Biographies/Biographies_Journalists/*.txt'\n",
    "files_journalists = glob.glob(path_journalists)\n",
    "#files_journalists = files_journalists[:3]\n",
    "\n",
    "path_sculptors = './Biographies/Biographies_Sculptors/*.txt'\n",
    "files_sculptors = glob.glob(path_sculptors)\n",
    "#files_sculpors = files_sculptors[:3]"
   ]
  },
  {
   "cell_type": "code",
   "execution_count": null,
   "id": "674547a9-623b-414f-a9fd-074c277caf16",
   "metadata": {},
   "outputs": [],
   "source": [
    "def extract_ents_stanza(file):\n",
    "    with open(file, 'r') as f:\n",
    "        content = f.read()\n",
    "        doc = nlp_stanza(content)\n",
    "        ents = [(ent.text, ent.type) for ent in doc.ents]\n",
    "    return ents\n",
    "\n",
    "def extract_ents_spacy(file):\n",
    "    with open(file, 'r') as f:\n",
    "        content = f.read()\n",
    "        doc = nlp_spacy(content)\n",
    "        ents = [(ent.text, ent.label_) for ent in doc.ents]\n",
    "    return ents\n",
    "\n",
    "def store_ents(files):\n",
    "    data = []\n",
    "    for file in files:\n",
    "        file_name = file.split('/')[-1]\n",
    "        data.append({'file_name': file_name, \n",
    "                     'ents_stanza': extract_ents_stanza(file), \n",
    "                     'ents_spacy': extract_ents_spacy(file)})\n",
    "    return data\n",
    "\n",
    "data_journalists = store_ents(files_journalists)\n",
    "df_journalists = pd.DataFrame(data_journalists)\n",
    "df_journalists.head()\n",
    "\n",
    "data_sculptors = store_ents(files_journalists)\n",
    "df_sculptors = pd.DataFrame(data_sculptors)\n",
    "df_sculptors.head()"
   ]
  },
  {
   "cell_type": "code",
   "execution_count": null,
   "id": "cd9ce367-63c9-4dd6-94e3-feac9fcb4941",
   "metadata": {},
   "outputs": [],
   "source": [
    "nb_ents_journalists_stanza = [len(ents) for ents in df_journalists['ents_stanza']]\n",
    "nb_ents_journalists_spacy = [len(ents) for ents in df_journalists['ents_spacy']]\n",
    "nb_ents_sculptors_stanza = [len(ents) for ents in df_sculptors['ents_stanza']]\n",
    "nb_ents_sculptors_spacy = [len(ents) for ents in df_sculptors['ents_spacy']]\n",
    "\n",
    "data = data = {\"category\" : [\"Journalists\",\"Journalists\",\"Sculptors\",\"Sculptors\"],\n",
    "        \"package\" : [\"stanza\",\"spacy\"],\n",
    "        \"avg_nb_ent\" : [np.mean(nb_ents_journalists_stanza),\n",
    "                        np.mean(nb_ents_journalists_spacy),\n",
    "                        np.mean(nb_ents_sculptors_stanza),\n",
    "                        np.mean(nb_ents_sculptors_spacy)],\n",
    "        \"min_nb_ent\" : ["
   ]
  },
  {
   "cell_type": "code",
   "execution_count": null,
   "id": "92a2463b-51cc-4654-b851-c59dc510da5b",
   "metadata": {},
   "outputs": [],
   "source": []
  },
  {
   "cell_type": "code",
   "execution_count": null,
   "id": "198d8f00-8df2-4154-b50f-4e804959b8db",
   "metadata": {},
   "outputs": [],
   "source": []
  },
  {
   "cell_type": "code",
   "execution_count": 87,
   "id": "4a5e366a-4324-401a-8337-fa74eddb47e1",
   "metadata": {},
   "outputs": [
    {
     "data": {
      "text/html": [
       "<div>\n",
       "<style scoped>\n",
       "    .dataframe tbody tr th:only-of-type {\n",
       "        vertical-align: middle;\n",
       "    }\n",
       "\n",
       "    .dataframe tbody tr th {\n",
       "        vertical-align: top;\n",
       "    }\n",
       "\n",
       "    .dataframe thead th {\n",
       "        text-align: right;\n",
       "    }\n",
       "</style>\n",
       "<table border=\"1\" class=\"dataframe\">\n",
       "  <thead>\n",
       "    <tr style=\"text-align: right;\">\n",
       "      <th></th>\n",
       "      <th>file_name</th>\n",
       "      <th>ents_stanza</th>\n",
       "      <th>ents_spacy</th>\n",
       "      <th>nb_ents_stanza</th>\n",
       "      <th>nb_ents_spacy</th>\n",
       "    </tr>\n",
       "  </thead>\n",
       "  <tbody>\n",
       "    <tr>\n",
       "      <th>0</th>\n",
       "      <td>AquileoJ.Echeverría_Journalists.txt</td>\n",
       "      <td>[(Aquileo J. Echeverría, PERSON), (May 22, 186...</td>\n",
       "      <td>[(Aquileo J. Echeverría, PERSON), (May 22, 186...</td>\n",
       "      <td>46</td>\n",
       "      <td>47</td>\n",
       "    </tr>\n",
       "    <tr>\n",
       "      <th>1</th>\n",
       "      <td>ThomasHenryShadwellClerke_Journalists.txt</td>\n",
       "      <td>[(Thomas Henry Shadwell Clerke, PERSON), (KH, ...</td>\n",
       "      <td>[(Thomas Henry Shadwell Clerke, PERSON), (KH, ...</td>\n",
       "      <td>59</td>\n",
       "      <td>57</td>\n",
       "    </tr>\n",
       "    <tr>\n",
       "      <th>2</th>\n",
       "      <td>Journalist_Journalists.txt</td>\n",
       "      <td>[(Matthew C. Nisbet, PERSON), (Walter Lippmann...</td>\n",
       "      <td>[(Matthew C. Nisbet, PERSON), (Walter Lippmann...</td>\n",
       "      <td>235</td>\n",
       "      <td>242</td>\n",
       "    </tr>\n",
       "    <tr>\n",
       "      <th>3</th>\n",
       "      <td>KayodeAkintemi_Journalists.txt</td>\n",
       "      <td>[(Kayode Akintemi, PERSON), (June 26, 1965, DA...</td>\n",
       "      <td>[(Kayode Akintemi, PERSON), (June 26, 1965, DA...</td>\n",
       "      <td>106</td>\n",
       "      <td>104</td>\n",
       "    </tr>\n",
       "    <tr>\n",
       "      <th>4</th>\n",
       "      <td>31Minutos_Journalists.txt</td>\n",
       "      <td>[(31 minutos, TIME), (English, LANGUAGE), (31 ...</td>\n",
       "      <td>[(31, CARDINAL), (English, LANGUAGE), (31 minu...</td>\n",
       "      <td>622</td>\n",
       "      <td>595</td>\n",
       "    </tr>\n",
       "  </tbody>\n",
       "</table>\n",
       "</div>"
      ],
      "text/plain": [
       "                                   file_name  \\\n",
       "0        AquileoJ.Echeverría_Journalists.txt   \n",
       "1  ThomasHenryShadwellClerke_Journalists.txt   \n",
       "2                 Journalist_Journalists.txt   \n",
       "3             KayodeAkintemi_Journalists.txt   \n",
       "4                  31Minutos_Journalists.txt   \n",
       "\n",
       "                                         ents_stanza  \\\n",
       "0  [(Aquileo J. Echeverría, PERSON), (May 22, 186...   \n",
       "1  [(Thomas Henry Shadwell Clerke, PERSON), (KH, ...   \n",
       "2  [(Matthew C. Nisbet, PERSON), (Walter Lippmann...   \n",
       "3  [(Kayode Akintemi, PERSON), (June 26, 1965, DA...   \n",
       "4  [(31 minutos, TIME), (English, LANGUAGE), (31 ...   \n",
       "\n",
       "                                          ents_spacy  nb_ents_stanza  \\\n",
       "0  [(Aquileo J. Echeverría, PERSON), (May 22, 186...              46   \n",
       "1  [(Thomas Henry Shadwell Clerke, PERSON), (KH, ...              59   \n",
       "2  [(Matthew C. Nisbet, PERSON), (Walter Lippmann...             235   \n",
       "3  [(Kayode Akintemi, PERSON), (June 26, 1965, DA...             106   \n",
       "4  [(31, CARDINAL), (English, LANGUAGE), (31 minu...             622   \n",
       "\n",
       "   nb_ents_spacy  \n",
       "0             47  \n",
       "1             57  \n",
       "2            242  \n",
       "3            104  \n",
       "4            595  "
      ]
     },
     "execution_count": 87,
     "metadata": {},
     "output_type": "execute_result"
    }
   ],
   "source": [
    "df_journalists['nb_ents_stanza'] = pd.Series([len(ents) for ents in df_journalists['ents_stanza']])\n",
    "df_journalists['nb_ents_spacy'] = pd.Series([len(ents) for ents in df_journalists['ents_spacy']])\n",
    "df_journalists.head()\n",
    "\n",
    "df_sculptors['nb_ents_stanza'] = pd.Series([len(ents) for ents in df_sculptors['ents_stanza']])\n",
    "df_sculptors['nb_ents_spacy'] = pd.Series([len(ents) for ents in df_sculptors['ents_spacy']])\n",
    "df_sculptors.head()"
   ]
  },
  {
   "cell_type": "code",
   "execution_count": 88,
   "id": "d7301dd2-9d72-4f37-ad07-27efde33ab92",
   "metadata": {},
   "outputs": [
    {
     "name": "stdout",
     "output_type": "stream",
     "text": [
      "181.06201550387595 175.27131782945736 181.06201550387595 181.06201550387595\n"
     ]
    }
   ],
   "source": [
    "avg_journalists_stanza = df_journalists['nb_ents_stanza'].mean()\n",
    "avg_journalists_spacy = df_journalists['nb_ents_spacy'].mean()\n",
    "\n",
    "avg_sculptors_stanza = df_sculptors['nb_ents_stanza'].mean()\n",
    "avg_sculptors_stanza = df_sculptors['nb_ents_stanza'].mean()\n",
    "\n",
    "print(avg_journalists_stanza,avg_journalists_spacy,avg_sculptors_stanza,avg_sculptors_stanza)"
   ]
  },
  {
   "cell_type": "code",
   "execution_count": 89,
   "id": "b53fb87b-ead1-49a2-bf26-c3da4ab54fd7",
   "metadata": {},
   "outputs": [
    {
     "name": "stdout",
     "output_type": "stream",
     "text": [
      "8 8 8 8\n"
     ]
    }
   ],
   "source": [
    "min_journalists_stanza = df_journalists['nb_ents_stanza'].min()\n",
    "min_journalists_spacy = df_journalists['nb_ents_spacy'].min()\n",
    "\n",
    "min_sculptors_stanza = df_sculptors['nb_ents_stanza'].min()\n",
    "min_sculptors_stanza = df_sculptors['nb_ents_stanza'].min()\n",
    "\n",
    "print(min_journalists_stanza,min_journalists_spacy,min_sculptors_stanza,min_sculptors_stanza)"
   ]
  },
  {
   "cell_type": "code",
   "execution_count": 90,
   "id": "f6f2c47b-f933-4161-b7b7-a658eb8d1170",
   "metadata": {},
   "outputs": [
    {
     "name": "stdout",
     "output_type": "stream",
     "text": [
      "1854 1722 1854 1854\n"
     ]
    }
   ],
   "source": [
    "max_journalists_stanza = df_journalists['nb_ents_stanza'].max()\n",
    "max_journalists_spacy = df_journalists['nb_ents_spacy'].max()\n",
    "\n",
    "max_sculptors_stanza = df_sculptors['nb_ents_stanza'].max()\n",
    "max_sculptors_stanza = df_sculptors['nb_ents_stanza'].max()\n",
    "\n",
    "print(max_journalists_stanza,max_journalists_spacy,max_sculptors_stanza,max_sculptors_stanza)"
   ]
  },
  {
   "cell_type": "code",
   "execution_count": 91,
   "id": "342a23c1-8da9-4234-b3fb-804df3a08ea4",
   "metadata": {},
   "outputs": [
    {
     "name": "stdout",
     "output_type": "stream",
     "text": [
      "[2, 2, 2] [2, 2, 2, 2, 2, 2, 2, 2, 2, 2, 2, 2, 2, 2, 2, 2, 2, 2, 2, 2, 2, 2, 2, 2, 2, 2, 2, 2, 2, 2, 2, 2, 2, 2, 2, 2, 2, 2, 2, 2, 2, 2, 2, 2, 2, 2, 2, 2, 2, 2, 2, 2, 2, 2, 2, 2, 2, 2, 2, 2, 2, 2, 2, 2, 2, 2, 2, 2, 2, 2, 2, 2, 2, 2, 2, 2, 2, 2, 2, 2, 2, 2, 2, 2, 2, 2, 2, 2, 2, 2, 2, 2, 2, 2, 2, 2, 2, 2, 2, 2, 2, 2, 2, 2, 2, 2, 2, 2, 2, 2, 2, 2, 2, 2, 2, 2, 2, 2, 2, 2, 2, 2, 2, 2, 2, 2, 2, 2, 2] [2, 2, 2, 2, 2, 2, 2, 2, 2, 2, 2, 2, 2, 2, 2, 2, 2, 2, 2, 2, 2, 2, 2, 2, 2, 2, 2, 2, 2, 2, 2, 2, 2, 2, 2, 2, 2, 2, 2, 2, 2, 2, 2, 2, 2, 2, 2, 2, 2, 2, 2, 2, 2, 2, 2, 2, 2, 2, 2, 2, 2, 2, 2, 2, 2, 2, 2, 2, 2, 2, 2, 2, 2, 2, 2, 2, 2, 2, 2, 2, 2, 2, 2, 2, 2, 2, 2, 2, 2, 2, 2, 2, 2, 2, 2, 2, 2, 2, 2, 2, 2, 2, 2, 2, 2, 2, 2, 2, 2, 2, 2, 2, 2, 2, 2, 2, 2, 2, 2, 2, 2, 2, 2, 2, 2, 2, 2, 2, 2] [2, 2, 2, 2, 2, 2, 2, 2, 2, 2, 2, 2, 2, 2, 2, 2, 2, 2, 2, 2, 2, 2, 2, 2, 2, 2, 2, 2, 2, 2, 2, 2, 2, 2, 2, 2, 2, 2, 2, 2, 2, 2, 2, 2, 2, 2, 2, 2, 2, 2, 2, 2, 2, 2, 2, 2, 2, 2, 2, 2, 2, 2, 2, 2, 2, 2, 2, 2, 2, 2, 2, 2, 2, 2, 2, 2, 2, 2, 2, 2, 2, 2, 2, 2, 2, 2, 2, 2, 2, 2, 2, 2, 2, 2, 2, 2, 2, 2, 2, 2, 2, 2, 2, 2, 2, 2, 2, 2, 2, 2, 2, 2, 2, 2, 2, 2, 2, 2, 2, 2, 2, 2, 2, 2, 2, 2, 2, 2, 2]\n"
     ]
    }
   ],
   "source": [
    "all_ents_journalists_stanza = [ents for ents in df_journalists['ents_stanza']]\n",
    "nb_words_journalists_spacy = [len(ent[0]) for ent in all_ents_journalists_stanza]\n",
    "\n",
    "all_ents_journalists_spacy = [ents for ents in df_journalists['ents_spacy']]\n",
    "nb_words_journalists_spacy = [len(ent[0]) for ent in all_ents_journalists_spacy]\n",
    "\n",
    "\n",
    "all_ents_sculptors_stanza = [ents for ents in df_sculptors['ents_stanza']]\n",
    "nb_words_sculptors_stanza = [len(ent[0]) for ent in all_ents_sculptors_stanza]\n",
    "\n",
    "all_ents_sculptors_spacy = [ents for ents in df_sculptors['ents_spacy']]\n",
    "nb_words_sculptors_spacy = [len(ent[0]) for ent in all_ents_sculptors_spacy]\n",
    "\n",
    "print(nb_words_journalists_stanza,nb_words_journalists_spacy,nb_words_sculptors_stanza,nb_words_sculptors_spacy)"
   ]
  },
  {
   "cell_type": "code",
   "execution_count": 2,
   "id": "ee856a07-90ff-4c4d-b3ee-74253a088faa",
   "metadata": {},
   "outputs": [
    {
     "ename": "NameError",
     "evalue": "name 'df_journalists' is not defined",
     "output_type": "error",
     "traceback": [
      "\u001b[0;31m---------------------------------------------------------------------------\u001b[0m",
      "\u001b[0;31mNameError\u001b[0m                                 Traceback (most recent call last)",
      "Cell \u001b[0;32mIn[2], line 3\u001b[0m\n\u001b[1;32m      1\u001b[0m data \u001b[38;5;241m=\u001b[39m {\u001b[38;5;124m\"\u001b[39m\u001b[38;5;124mcategory\u001b[39m\u001b[38;5;124m\"\u001b[39m : [\u001b[38;5;124m\"\u001b[39m\u001b[38;5;124mJournalists\u001b[39m\u001b[38;5;124m\"\u001b[39m,\u001b[38;5;124m\"\u001b[39m\u001b[38;5;124mJournalists\u001b[39m\u001b[38;5;124m\"\u001b[39m,\u001b[38;5;124m\"\u001b[39m\u001b[38;5;124mSculptors\u001b[39m\u001b[38;5;124m\"\u001b[39m,\u001b[38;5;124m\"\u001b[39m\u001b[38;5;124mSculptors\u001b[39m\u001b[38;5;124m\"\u001b[39m],\n\u001b[1;32m      2\u001b[0m         \u001b[38;5;124m\"\u001b[39m\u001b[38;5;124mpackage\u001b[39m\u001b[38;5;124m\"\u001b[39m : [\u001b[38;5;124m\"\u001b[39m\u001b[38;5;124mstanza\u001b[39m\u001b[38;5;124m\"\u001b[39m,\u001b[38;5;124m\"\u001b[39m\u001b[38;5;124mspacy\u001b[39m\u001b[38;5;124m\"\u001b[39m],\n\u001b[0;32m----> 3\u001b[0m         \u001b[38;5;124m\"\u001b[39m\u001b[38;5;124mavg_nb_ent\u001b[39m\u001b[38;5;124m\"\u001b[39m : \u001b[43mdf_journalists\u001b[49m[\u001b[38;5;124m'\u001b[39m\u001b[38;5;124mnb_ents_stanza\u001b[39m\u001b[38;5;124m'\u001b[39m]\u001b[38;5;241m.\u001b[39mmean()}\n\u001b[1;32m      5\u001b[0m df_statistics \u001b[38;5;241m=\u001b[39m pd\u001b[38;5;241m.\u001b[39mDataFrame(data)\n",
      "\u001b[0;31mNameError\u001b[0m: name 'df_journalists' is not defined"
     ]
    }
   ],
   "source": [
    "data = {\"category\" : [\"Journalists\",\"Journalists\",\"Sculptors\",\"Sculptors\"],\n",
    "        \"package\" : [\"stanza\",\"spacy\"],\n",
    "        \"avg_nb_ent\" : df_journalists['nb_ents_stanza'].mean()}\n",
    "\n",
    "df_statistics = pd.DataFrame(data)"
   ]
  },
  {
   "cell_type": "code",
   "execution_count": 92,
   "id": "a4aa0b60-9051-415b-903d-6f9243cf49eb",
   "metadata": {},
   "outputs": [],
   "source": [
    "import numpy as np"
   ]
  },
  {
   "cell_type": "code",
   "execution_count": 93,
   "id": "26c20a33-4884-47cb-875f-cc589cdd9c23",
   "metadata": {},
   "outputs": [
    {
     "name": "stdout",
     "output_type": "stream",
     "text": [
      "2.0 2.0 2.0 2.0\n"
     ]
    }
   ],
   "source": [
    "avg_nb_words_per_ent_journalists_stanza = np.mean(nb_words_j_stanza)\n",
    "avg_nb_words_per_ent_journalists_spacy = np.mean(nb_words_j_spacy)\n",
    "\n",
    "avg_nb_words_per_ent_sculptors_stanza = np.mean(nb_words_s_stanza)\n",
    "avg_nb_words_per_ent_sculptors_spacy = np.mean(nb_words_s_spacy)\n",
    "\n",
    "print(avg_nb_words_per_ent_journalists_stanza,avg_nb_words_per_ent_journalists_spacy,avg_nb_words_per_ent_sculptors_stanza,avg_nb_words_per_ent_sculptors_spacy)"
   ]
  },
  {
   "cell_type": "code",
   "execution_count": 94,
   "id": "f553a25d-ac38-40a8-8301-cc04c759b8f6",
   "metadata": {},
   "outputs": [
    {
     "name": "stdout",
     "output_type": "stream",
     "text": [
      "2 2 2 2\n"
     ]
    }
   ],
   "source": [
    "min_nb_words_per_ent_journalists_stanza = min(nb_words_journalists_stanza)\n",
    "min_nb_words_per_ent_journalists_spacy = min(nb_words_journalists_spacy)\n",
    "\n",
    "min_nb_words_per_ent_sculptors_stanza = min(nb_words_sculptors_stanza)\n",
    "min_nb_words_per_ent_sculptors_spacy = min(nb_words_sculptors_spacy)\n",
    "\n",
    "print(min_nb_words_per_ent_journalists_stanza,min_nb_words_per_ent_journalists_spacy,min_nb_words_per_ent_sculptors_stanza,min_nb_words_per_ent_sculptors_spacy)"
   ]
  },
  {
   "cell_type": "code",
   "execution_count": 95,
   "id": "f6a0e1f9-c1e9-47b3-9595-6d07e8ef5fe5",
   "metadata": {},
   "outputs": [
    {
     "name": "stdout",
     "output_type": "stream",
     "text": [
      "2 2 2 2\n"
     ]
    }
   ],
   "source": [
    "max_nb_words_per_ent_journalists_stanza = max(nb_words_journalists_stanza)\n",
    "max_nb_words_per_ent_journalists_spacy = max(nb_words_journalists_spacy)\n",
    "\n",
    "max_nb_words_per_ent_sculptors_stanza = max(nb_words_sculptors_stanza)\n",
    "max_nb_words_per_ent_sculptors_spacy = max(nb_words_sculptors_spacy)\n",
    "\n",
    "print(max_nb_words_per_ent_journalists_stanza,max_nb_words_per_ent_journalists_spacy,max_nb_words_per_ent_sculptors_stanza,max_nb_words_per_ent_sculptors_spacy)"
   ]
  },
  {
   "cell_type": "code",
   "execution_count": 96,
   "id": "9c75832f-c1c8-4b63-94c9-b298c633d2ec",
   "metadata": {},
   "outputs": [],
   "source": [
    "import matplotlib.pyplot as plt\n",
    "import seaborn as sns"
   ]
  },
  {
   "cell_type": "code",
   "execution_count": null,
   "id": "395fe767-a68b-4d6d-b12e-c225baec03ce",
   "metadata": {},
   "outputs": [],
   "source": []
  },
  {
   "cell_type": "code",
   "execution_count": null,
   "id": "4203f1fb-46a8-41f4-833b-ed3eae5df0c9",
   "metadata": {},
   "outputs": [],
   "source": []
  }
 ],
 "metadata": {
  "kernelspec": {
   "display_name": "Python 3 (ipykernel)",
   "language": "python",
   "name": "python3"
  },
  "language_info": {
   "codemirror_mode": {
    "name": "ipython",
    "version": 3
   },
   "file_extension": ".py",
   "mimetype": "text/x-python",
   "name": "python",
   "nbconvert_exporter": "python",
   "pygments_lexer": "ipython3",
   "version": "3.10.12"
  }
 },
 "nbformat": 4,
 "nbformat_minor": 5
}
